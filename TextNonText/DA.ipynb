{
 "cells": [
  {
   "cell_type": "code",
   "execution_count": 2,
   "metadata": {},
   "outputs": [],
   "source": [
    "from lxml import etree\n",
    "import numpy as np\n",
    "import pandas as pd\n",
    "import re\n",
    "import matplotlib.pyplot as plt\n",
    "import collections\n",
    "%matplotlib inline"
   ]
  },
  {
   "cell_type": "markdown",
   "metadata": {},
   "source": [
    "Добавим к качестве фичей «Быстрые» Признаки\n",
    "* (area – blackCount) / ((horzStrokeCount + height ) * height )\n",
    "* (horzStrokeCount + vertStrokeCount) / max( width, height )\n",
    "* blackCount / (horzStrokeCount + vertStrokeCount)"
   ]
  },
  {
   "cell_type": "code",
   "execution_count": 3,
   "metadata": {},
   "outputs": [],
   "source": [
    "import pandas as pd\n",
    "import xml.etree.ElementTree as et\n",
    "\n",
    "def parse_XML(xml_file, df_cols, text): \n",
    "    \"\"\"Parse the input XML file and store the result in a pandas DataFrame \n",
    "    with the given columns. The first element of df_cols is supposed to be \n",
    "    the identifier variable, which is an attribute of each node element in \n",
    "    the XML data; other features will be parsed from the text content of \n",
    "    each sub-element. \"\"\"\n",
    "    \n",
    "    xtree = et.parse(xml_file)\n",
    "    xroot = xtree.getroot()\n",
    "    out_df = pd.DataFrame(columns = df_cols)\n",
    "    \n",
    "    xroot = xroot.find(\"Image\") \n",
    "    \n",
    "    number_my_feature = 6\n",
    "    \n",
    "    df_cols.append(\"Width\")\n",
    "    df_cols.append(\"Height\")\n",
    "    df_cols.append(\"f1\")\n",
    "    df_cols.append(\"f2\")\n",
    "    df_cols.append(\"f3\")\n",
    "    df_cols.append(\"label\")\n",
    "    \n",
    "    for node in xroot: \n",
    "        res = []\n",
    "        res.append(node.attrib.get(df_cols[0]))\n",
    "        for el in df_cols[1:-number_my_feature]: \n",
    "            res.append(node.attrib.get(el))\n",
    "            \n",
    "        rectangle = node.find(\"Rect\")\n",
    "        left = rectangle.attrib.get(\"Left\")\n",
    "        top = rectangle.attrib.get(\"Top\")\n",
    "        right = rectangle.attrib.get(\"Right\")\n",
    "        bottom = rectangle.attrib.get(\"Bottom\")\n",
    "        \n",
    "        width = abs((int)(right) - (int)(left))\n",
    "        height = abs((int)(top) - (int)(bottom))\n",
    "        area = width*height\n",
    "        \n",
    "        res.append(width)\n",
    "        res.append(height)\n",
    "        res.append((area-(int)(res[0]))/(((int)(res[2]) + height ) * height ))\n",
    "        res.append( ((int)(res[2])+ (int)(res[3])) / max( width, height ) )\n",
    "        res.append( (int)(res[0]) / ((int)(res[2]) + (int)(res[3])) )\n",
    "        res.append( text == True )\n",
    "        \n",
    "        out_df = out_df.append(pd.Series(res, index = df_cols), ignore_index = True)\n",
    "        \n",
    "    return out_df"
   ]
  },
  {
   "cell_type": "code",
   "execution_count": 4,
   "metadata": {},
   "outputs": [],
   "source": [
    "import glob\n",
    "df = pd.DataFrame()\n",
    "for texts in glob.glob('./Text/*.xml'):\n",
    "    df = df.append(parse_XML(texts, [\"BlackCount\", \"WhiteHolesCount\", \"HorzStrokesCount\", \"VertStrokesCount\", \"MaxHorzStrokeLength\"], True))"
   ]
  },
  {
   "cell_type": "code",
   "execution_count": 5,
   "metadata": {},
   "outputs": [],
   "source": [
    "for texts in glob.glob('./Nontext/*.xml'):\n",
    "    df = df.append(parse_XML(texts, [\"BlackCount\", \"WhiteHolesCount\", \"HorzStrokesCount\", \"VertStrokesCount\", \"MaxHorzStrokeLength\"], False))"
   ]
  },
  {
   "cell_type": "code",
   "execution_count": 6,
   "metadata": {},
   "outputs": [],
   "source": [
    "import xgboost as xgb"
   ]
  },
  {
   "cell_type": "code",
   "execution_count": 7,
   "metadata": {},
   "outputs": [],
   "source": [
    "data = df[df.columns[:-1]].values\n",
    "labels = df[\"label\"].values"
   ]
  },
  {
   "cell_type": "code",
   "execution_count": 8,
   "metadata": {},
   "outputs": [
    {
     "data": {
      "text/plain": [
       "array([1., 1., 1., ..., 0., 0., 0.])"
      ]
     },
     "execution_count": 8,
     "metadata": {},
     "output_type": "execute_result"
    }
   ],
   "source": [
    "labels"
   ]
  },
  {
   "cell_type": "code",
   "execution_count": 9,
   "metadata": {},
   "outputs": [
    {
     "name": "stderr",
     "output_type": "stream",
     "text": [
      "C:\\ProgramData\\Anaconda3\\lib\\site-packages\\sklearn\\utils\\validation.py:475: DataConversionWarning: Data with input dtype object was converted to float64 by the scale function.\n",
      "  warnings.warn(msg, DataConversionWarning)\n"
     ]
    }
   ],
   "source": [
    "from sklearn.model_selection import train_test_split\n",
    "from sklearn import preprocessing\n",
    "data = preprocessing.scale(data)\n",
    "X_train, X_test, y_train, y_test = train_test_split(data, labels, test_size=0.33, random_state=42)"
   ]
  },
  {
   "cell_type": "code",
   "execution_count": 10,
   "metadata": {},
   "outputs": [
    {
     "data": {
      "text/plain": [
       "XGBClassifier(base_score=0.5, booster='gbtree', colsample_bylevel=1,\n",
       "       colsample_bytree=1, gamma=0, learning_rate=0.1, max_delta_step=0,\n",
       "       max_depth=20, min_child_weight=1, missing=None, n_estimators=100,\n",
       "       n_jobs=-1, nthread=None, objective='binary:logistic',\n",
       "       random_state=0, reg_alpha=0, reg_lambda=1, scale_pos_weight=1,\n",
       "       seed=None, silent=True, subsample=1, verbosity=0)"
      ]
     },
     "execution_count": 10,
     "metadata": {},
     "output_type": "execute_result"
    }
   ],
   "source": [
    "clf  = xgb.XGBClassifier(max_depth = 20, verbosity=0, n_jobs=-1)\n",
    "clf.fit(X_train, y_train)"
   ]
  },
  {
   "cell_type": "code",
   "execution_count": 11,
   "metadata": {},
   "outputs": [
    {
     "name": "stdout",
     "output_type": "stream",
     "text": [
      "[0. 0. 1. ... 1. 1. 0.]\n"
     ]
    },
    {
     "name": "stderr",
     "output_type": "stream",
     "text": [
      "C:\\ProgramData\\Anaconda3\\lib\\site-packages\\sklearn\\preprocessing\\label.py:151: DeprecationWarning: The truth value of an empty array is ambiguous. Returning False, but in future this will result in an error. Use `array.size > 0` to check that an array is not empty.\n",
      "  if diff:\n"
     ]
    }
   ],
   "source": [
    "pred = clf.predict(X_test)\n",
    "print(y_test)"
   ]
  },
  {
   "cell_type": "code",
   "execution_count": 12,
   "metadata": {},
   "outputs": [
    {
     "name": "stderr",
     "output_type": "stream",
     "text": [
      "C:\\ProgramData\\Anaconda3\\lib\\site-packages\\sklearn\\preprocessing\\label.py:151: DeprecationWarning: The truth value of an empty array is ambiguous. Returning False, but in future this will result in an error. Use `array.size > 0` to check that an array is not empty.\n",
      "  if diff:\n"
     ]
    },
    {
     "name": "stdout",
     "output_type": "stream",
     "text": [
      "Test_acc: 0.9283, test_f-measure: 0.9272\n"
     ]
    },
    {
     "name": "stderr",
     "output_type": "stream",
     "text": [
      "C:\\ProgramData\\Anaconda3\\lib\\site-packages\\sklearn\\preprocessing\\label.py:151: DeprecationWarning: The truth value of an empty array is ambiguous. Returning False, but in future this will result in an error. Use `array.size > 0` to check that an array is not empty.\n",
      "  if diff:\n"
     ]
    }
   ],
   "source": [
    "from sklearn.metrics import accuracy_score, f1_score\n",
    "from sklearn.metrics.scorer import make_scorer\n",
    "f_scorer = make_scorer(f1_score, average='macro')\n",
    "print(\"Test_acc: {:.4f}, test_f-measure: {:.4f}\".format(\n",
    "    accuracy_score(clf.predict(X_test), y_test),\n",
    "    f_scorer(clf, X_test, y_test)\n",
    "))"
   ]
  },
  {
   "cell_type": "code",
   "execution_count": 13,
   "metadata": {},
   "outputs": [
    {
     "data": {
      "image/png": "[encoded data removed]",
      "text/plain": [
       "<Figure size 432x288 with 1 Axes>"
      ]
     },
     "metadata": {},
     "output_type": "display_data"
    }
   ],
   "source": [
    "from sklearn.metrics import roc_auc_score, roc_curve\n",
    "\n",
    "for name, X, y, model in [\n",
    "    ('train', X_train, y_train, clf),\n",
    "    ('test ', X_test, y_test, clf)\n",
    "]:\n",
    "    proba = model.predict_proba(X)[:, 1]\n",
    "    auc = roc_auc_score(y, proba)\n",
    "    plt.plot(*roc_curve(y, proba)[:2], label='%s AUC=%.4f' % (name, auc))\n",
    "\n",
    "plt.plot([0, 1], [0, 1], '--', color='black',)\n",
    "plt.legend(fontsize='large')\n",
    "plt.grid()"
   ]
  },
  {
   "cell_type": "code",
   "execution_count": 14,
   "metadata": {},
   "outputs": [
    {
     "data": {
      "image/png": "[encoded data removed]",
      "text/plain": [
       "<Figure size 432x288 with 1 Axes>"
      ]
     },
     "metadata": {},
     "output_type": "display_data"
    }
   ],
   "source": [
    "from sklearn.metrics import precision_recall_curve\n",
    "from sklearn.metrics import average_precision_score\n",
    "from sklearn.utils.fixes import signature\n",
    "y_scores = clf.predict_proba(X_test)[:,1]\n",
    "precision, recall, thresholds = precision_recall_curve(y_test, y_scores)\n",
    "\n",
    "average_precision = average_precision_score(y_test, y_scores)\n",
    "plt.plot(recall, precision, label='AP=%.4f' % (average_precision))\n",
    "\n",
    "\n",
    "plt.legend(fontsize='large')\n",
    "plt.grid()"
   ]
  },
  {
   "cell_type": "code",
   "execution_count": 15,
   "metadata": {},
   "outputs": [],
   "source": [
    "from sklearn.metrics import classification_report"
   ]
  },
  {
   "cell_type": "code",
   "execution_count": 16,
   "metadata": {},
   "outputs": [
    {
     "name": "stdout",
     "output_type": "stream",
     "text": [
      "             precision    recall  f1-score   support\n",
      "\n",
      "       text       0.88      0.96      0.92      5972\n",
      "   non-text       0.97      0.91      0.94      8221\n",
      "\n",
      "avg / total       0.93      0.93      0.93     14193\n",
      "\n"
     ]
    },
    {
     "name": "stderr",
     "output_type": "stream",
     "text": [
      "C:\\ProgramData\\Anaconda3\\lib\\site-packages\\sklearn\\preprocessing\\label.py:151: DeprecationWarning: The truth value of an empty array is ambiguous. Returning False, but in future this will result in an error. Use `array.size > 0` to check that an array is not empty.\n",
      "  if diff:\n"
     ]
    }
   ],
   "source": [
    "target_names = ['text', 'non-text']\n",
    "print(classification_report(y_test, model.predict(X_test), target_names=target_names))"
   ]
  },
  {
   "cell_type": "markdown",
   "metadata": {},
   "source": [
    "## Вывод\n",
    "Как можно заметить из classification_report на текстах мы меньше ошибаемся, чем не на текстах. Так как recall у текстов больше. (То есть мы скорее скажем, что это non-text, чем ошибемся что это text)\n",
    "В моделе использовался xgboost параметры изначально были max_depth = 5, но было видно что классификатор был слишком прост так как на ROC кривой train и test вел себя идентично. При увеличении max_depth до 20 ситауция изменилась и увеличился score. Обучение происходило на всех данных, которые были доступны."
   ]
  },
  {
   "cell_type": "code",
   "execution_count": null,
   "metadata": {},
   "outputs": [],
   "source": []
  }
 ],
 "metadata": {
  "kernelspec": {
   "display_name": "Python 3",
   "language": "python",
   "name": "python3"
  },
  "language_info": {
   "codemirror_mode": {
    "name": "ipython",
    "version": 3
   },
   "file_extension": ".py",
   "mimetype": "text/x-python",
   "name": "python",
   "nbconvert_exporter": "python",
   "pygments_lexer": "ipython3",
   "version": "3.6.5"
  }
 },
 "nbformat": 4,
 "nbformat_minor": 2
}
